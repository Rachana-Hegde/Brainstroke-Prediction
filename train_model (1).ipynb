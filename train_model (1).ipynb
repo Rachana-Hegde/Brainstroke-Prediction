{
 "cells": [
  {
   "cell_type": "code",
   "execution_count": 8,
   "id": "19b92bb2-2ee9-47cc-a72c-cfb81126c78f",
   "metadata": {},
   "outputs": [],
   "source": [
    "import pandas as pd\n",
    "from sklearn.impute import SimpleImputer\n",
    "\n",
    "imputer = SimpleImputer(strategy='median')\n",
    "X_imputed = pd.DataFrame(imputer.fit_transform(X_encoded), columns=X_encoded.columns)\n"
   ]
  },
  {
   "cell_type": "code",
   "execution_count": 9,
   "id": "a9b0784a-0bc6-43bb-98b9-d2f9e83e2914",
   "metadata": {},
   "outputs": [],
   "source": [
    "imputer_cat = SimpleImputer(strategy='most_frequent')\n",
    "X_imputed = pd.DataFrame(imputer_cat.fit_transform(X_encoded), columns=X_encoded.columns)\n"
   ]
  },
  {
   "cell_type": "code",
   "execution_count": 10,
   "id": "be883f3b-878c-4e84-ba51-38d115201274",
   "metadata": {},
   "outputs": [],
   "source": [
    "X_encoded = X_encoded.dropna()\n",
    "y = y[X_encoded.index]  # align target\n"
   ]
  },
  {
   "cell_type": "code",
   "execution_count": 11,
   "id": "b1423eb0-0028-44ae-9175-9dd9a15ba8b1",
   "metadata": {},
   "outputs": [
    {
     "name": "stdout",
     "output_type": "stream",
     "text": [
      "Accuracy: 0.9501\n",
      "Classification Report:\n",
      "              precision    recall  f1-score   support\n",
      "\n",
      "           0       0.95      1.00      0.97       972\n",
      "           1       0.40      0.04      0.07        50\n",
      "\n",
      "    accuracy                           0.95      1022\n",
      "   macro avg       0.68      0.52      0.52      1022\n",
      "weighted avg       0.93      0.95      0.93      1022\n",
      "\n",
      "Model saved to 'C:\\Users\\rhegd\\OneDrive\\Desktop\\Django\\Predict\\stroke_model\\stroke_model.joblib'\n"
     ]
    }
   ],
   "source": [
    "import pandas as pd\n",
    "from sklearn.model_selection import train_test_split\n",
    "from sklearn.ensemble import RandomForestClassifier\n",
    "from sklearn.metrics import classification_report, accuracy_score\n",
    "from imblearn.over_sampling import SMOTE\n",
    "from sklearn.impute import SimpleImputer\n",
    "import joblib\n",
    "import os\n",
    "\n",
    "df = pd.read_csv(r\"C:\\Users\\rhegd\\OneDrive\\Desktop\\healthcare-dataset-stroke-data.csv\")\n",
    "\n",
    "X = df.drop('stroke', axis=1)\n",
    "y = df['stroke']\n",
    "\n",
    "categorical_cols = ['gender', 'ever_married', 'work_type', 'Residence_type', 'smoking_status']\n",
    "X_encoded = pd.get_dummies(X, columns=categorical_cols, drop_first=True)\n",
    "\n",
    "# Impute missing values (numerical and encoded categorical all as numbers now)\n",
    "imputer = SimpleImputer(strategy='median')\n",
    "X_imputed = pd.DataFrame(imputer.fit_transform(X_encoded), columns=X_encoded.columns)\n",
    "\n",
    "# Align target after imputation (if any rows dropped, usually none with SimpleImputer)\n",
    "# y = y.loc[X_imputed.index]\n",
    "\n",
    "X_train, X_test, y_train, y_test = train_test_split(\n",
    "    X_imputed, y, test_size=0.2, random_state=42, stratify=y)\n",
    "\n",
    "smote = SMOTE(random_state=42)\n",
    "X_train_sm, y_train_sm = smote.fit_resample(X_train, y_train)\n",
    "\n",
    "model = RandomForestClassifier(class_weight='balanced', random_state=42)\n",
    "model.fit(X_train_sm, y_train_sm)\n",
    "\n",
    "y_pred = model.predict(X_test)\n",
    "\n",
    "print(f\"Accuracy: {accuracy_score(y_test, y_pred):.4f}\")\n",
    "print(\"Classification Report:\")\n",
    "print(classification_report(y_test, y_pred, zero_division=0))\n",
    "\n",
    "save_dir = r\"C:\\Users\\rhegd\\OneDrive\\Desktop\\Django\\Predict\\stroke_model\"\n",
    "os.makedirs(save_dir, exist_ok=True)\n",
    "model_path = os.path.join(save_dir, \"stroke_model.joblib\")\n",
    "joblib.dump(model, model_path)\n",
    "print(f\"Model saved to '{model_path}'\")\n"
   ]
  },
  {
   "cell_type": "code",
   "execution_count": 1,
   "id": "f06f5a06-08de-4e14-ad16-709a025d2f53",
   "metadata": {},
   "outputs": [
    {
     "data": {
      "text/plain": [
       "['stroke_model.joblib']"
      ]
     },
     "execution_count": 1,
     "metadata": {},
     "output_type": "execute_result"
    }
   ],
   "source": [
    "import pandas as pd\n",
    "from sklearn.model_selection import train_test_split\n",
    "from sklearn.ensemble import RandomForestClassifier\n",
    "from sklearn.preprocessing import LabelEncoder\n",
    "import joblib\n",
    "\n",
    "# Load dataset\n",
    "df = pd.read_csv(r\"C:\\Users\\rhegd\\OneDrive\\Desktop\\healthcare-dataset-stroke-data.csv\")\n",
    "\n",
    "# Drop rows with null BMI\n",
    "df.dropna(subset=['bmi'], inplace=True)\n",
    "\n",
    "# Keep only the required features\n",
    "df = df[['age', 'gender', 'hypertension', 'heart_disease', 'work_type',\n",
    "         'avg_glucose_level', 'bmi', 'smoking_status', 'stroke']]\n",
    "\n",
    "# Encode categorical features\n",
    "le_gender = LabelEncoder()\n",
    "le_work = LabelEncoder()\n",
    "le_smoke = LabelEncoder()\n",
    "\n",
    "df['gender'] = le_gender.fit_transform(df['gender'])\n",
    "df['work_type'] = le_work.fit_transform(df['work_type'])\n",
    "df['smoking_status'] = le_smoke.fit_transform(df['smoking_status'])\n",
    "\n",
    "# Save encoders for future decoding (optional)\n",
    "joblib.dump(le_gender, 'le_gender.joblib')\n",
    "joblib.dump(le_work, 'le_work.joblib')\n",
    "joblib.dump(le_smoke, 'le_smoke.joblib')\n",
    "\n",
    "# Features and labels\n",
    "X = df.drop('stroke', axis=1)\n",
    "y = df['stroke']\n",
    "\n",
    "# Train-test split\n",
    "X_train, X_test, y_train, y_test = train_test_split(X, y, stratify=y, test_size=0.2, random_state=42)\n",
    "\n",
    "# Train model\n",
    "model = RandomForestClassifier()\n",
    "model.fit(X_train, y_train)\n",
    "\n",
    "# Save model\n",
    "joblib.dump(model, 'stroke_model.joblib')\n"
   ]
  },
  {
   "cell_type": "code",
   "execution_count": null,
   "id": "b4e47eba-f472-4949-8907-a841a58b54ac",
   "metadata": {},
   "outputs": [],
   "source": []
  }
 ],
 "metadata": {
  "kernelspec": {
   "display_name": "Python 3 (ipykernel)",
   "language": "python",
   "name": "python3"
  },
  "language_info": {
   "codemirror_mode": {
    "name": "ipython",
    "version": 3
   },
   "file_extension": ".py",
   "mimetype": "text/x-python",
   "name": "python",
   "nbconvert_exporter": "python",
   "pygments_lexer": "ipython3",
   "version": "3.10.16"
  }
 },
 "nbformat": 4,
 "nbformat_minor": 5
}
